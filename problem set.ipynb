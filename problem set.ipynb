{
 "cells": [
  {
   "cell_type": "markdown",
   "id": "56f37db2",
   "metadata": {},
   "source": [
    "\n",
    "        \n",
    "\n",
    "# Problem set 1\n",
    "Console.WriteLine($\"Data type of 5: {typeof(int)}\");\n",
    "Console.WriteLine($\"Data type of 5.0: {typeof(double)}\");\n",
    "Console.WriteLine($\"Data type of 5 > 1: {typeof(bool)}\");\n",
    "Console.WriteLine($\"Data type of '5': {typeof(char)}\");\n",
    "Console.WriteLine($\"Data type of 5 * 2: {typeof(int)}\");\n",
    "Console.WriteLine($\"Data type of '5' * 2: Invalid operation\");\n",
    "Console.WriteLine($\"Data type of '5' + '2': {typeof(string)}\");\n",
    "Console.WriteLine($\"Data type of 5 / 2: {typeof(int)}\");\n",
    "Console.WriteLine($\"Data type of 5 % 2: {typeof(int)}\");\n",
    "Console.WriteLine($\"Data type of 5 == 3: {typeof(bool)}\");\n",
    "Console.WriteLine($\"Data type of Pi: {typeof(double)}\");"
   ]
  },
  {
   "cell_type": "markdown",
   "id": "c1039496",
   "metadata": {},
   "source": [
    "# output 1\n",
    "Data type of 5: System.Int32\n",
    "Data type of 5.0: System.Double\n",
    "Data type of 5 > 1: System.Boolean\n",
    "Data type of '5': System.Char\n",
    "Data type of 5 * 2: System.Int32\n",
    "Data type of '5' * 2: Invalid operation\n",
    "Data type of '5' + '2': System.String\n",
    "Data type of 5 / 2: System.Int32\n",
    "Data type of 5 % 2: System.Int32\n",
    "Data type of 5 == 3: System.Boolean\n",
    "Data type of Pi: System.Double"
   ]
  },
  {
   "cell_type": "markdown",
   "id": "428af3b6",
   "metadata": {},
   "source": [
    "# problem 2\n",
    "# a) length of the string\n",
    "string name = \"Supercalifragilisticexpialidocious\";\n",
    "Console.WriteLine($\"Number of letters: {name.Length}\");\n",
    "\n",
    "# b) Does 'Supercalifragilisticexpialidocious' contain 'ice' as a substring . It gives true output\n",
    "string str = \"Supercalifragilisticexpialidocious\";\n",
    "string value = \"ice\";\n",
    "Boolean result = str.Contains(value);\n",
    "Console.WriteLine(result);\n",
    "\n",
    "# c) which words is the longest\n",
    "string str1 = \"Supercalifragilisticexpialidocious\";\n",
    "string str2 = \"Honorificabilitudinitatibus\";\n",
    "string str3 = \"Bababadalgharaghtakamminarronnkonn\";\n",
    "int num1 = str1.Length;\n",
    "int num2 = str2.Length;\n",
    "int num3 = str3.Length;\n",
    "if (num1>num2)\n",
    "{\n",
    "if (num1>num3)\n",
    "{\n",
    "Console.Write(\"The string first is the gratest among three.\\n\\n\");\n",
    "}\n",
    "else\n",
    "{\n",
    "Console.Write(\"The string third is the gratest among three.\\n\\n\");  \n",
    "}\n",
    "       \n",
    "}\n",
    "else if (num1 > num3)\n",
    "Console.Write(\"The string second is the gratest among three.\\n\\n\"); \n",
    "else \n",
    "Console.Write(\"The string third is the gratest among three.\\n\\n\");\n",
    "\n",
    "#d) problem\n",
    "string[] names = {  \"Berlioz\", \"Borodin\", \"Brian\",\"Bartok\", \"Bellini\", \"Buxtehude\", \"Bernstein\" };\n",
    "Array.Sort(names);\n",
    "Console.WriteLine(\"First name : \" + names[0]);\n",
    "Console.WriteLine(\"Last name : \" + names[names.Length-1]);\n",
    "    \n"
   ]
  },
  {
   "cell_type": "markdown",
   "id": "74b79c8a",
   "metadata": {},
   "source": [
    "//Part a)\n",
    "Number of letters: 34\n",
    "// Part b)\n",
    "Output\n",
    "True\n",
    "\n",
    "// Part c) \n",
    "Output\n",
    "The string third is the greatest among three.\n",
    "\n",
    "// Part d)\n",
    "Output\n",
    "First name: Bartok\n",
    "Last name: Buxtehude\n"
   ]
  },
  {
   "cell_type": "markdown",
   "id": "dd2a1992",
   "metadata": {},
   "source": [
    "# problem 3\n",
    "static void Main()\n",
    "{\n",
    "   double area = TriangleArea(2, 2, 2);\n",
    "   Console.WriteLine($\"Area: {area}\");\n",
    "}\n",
    "\n",
    "static double TriangleArea(double a, double b, double c)\n",
    "{\n",
    "    double s = (a + b + c) / 2;\n",
    "    return Math.Sqrt(s * (s - a) * (s - b) * (s - c));\n",
    "}"
   ]
  },
  {
   "cell_type": "markdown",
   "id": "0a7857b2",
   "metadata": {},
   "source": [
    "#output 3\n",
    "Area: 1.73205080756888"
   ]
  },
  {
   "cell_type": "markdown",
   "id": "18404985",
   "metadata": {},
   "source": [
    "# problem 4\n",
    " Console.Write(\"Enter the number of elements: \");\n",
    "    int n = Convert.ToInt32(Console.ReadLine());\n",
    "\n",
    "    List<int> numbers = new List<int>();\n",
    "    List<int> evenList = new List<int>();\n",
    "    List<int> oddList = new List<int>();\n",
    "\n",
    "    for (int i = 0; i < n; i++)\n",
    "    {\n",
    "    Console.Write($\"Element {i + 1}: \");\n",
    "    int num = Convert.ToInt32(Console.ReadLine());\n",
    "    numbers.Add(num);\n",
    "\n",
    "    if (num % 2 == 0)\n",
    "     evenList.Add(num);\n",
    "    else\n",
    "     oddList.Add(num);\n",
    "    }\n",
    "\n",
    "    Console.WriteLine($\"Even elements: {string.Join(\" \", evenList)}\");\n",
    "    Console.WriteLine($\"Odd elements: {string.Join(\" \", oddList)}\");"
   ]
  },
  {
   "cell_type": "markdown",
   "id": "3c28361a",
   "metadata": {},
   "source": [
    "# output 4\n",
    "Enter the number of elements: 6\n",
    "Element 1: 1\n",
    "Element 2: 2\n",
    "Element 3: 3\n",
    "Element 4: 5\n",
    "Element 5: 6\n",
    "Element 6: 7\n",
    "Even elements: 2 6\n",
    "Odd elements: 1 3 5 7"
   ]
  },
  {
   "cell_type": "markdown",
   "id": "799ce73b",
   "metadata": {},
   "source": [
    "# Problem 5\n",
    "Console.WriteLine(Inside(1, 1, 0, 0, 2, 3));\n",
    "        \n",
    "        Console.WriteLine();\n",
    "        Console.WriteLine(Inside(-1, -1, 0, 0, 2, 3)); \n",
    "\n",
    "        // Test whether the point (1, 1) lies in both rectangles\n",
    "        bool rectangle1 = Inside(1, 1, 0.3, 0.5, 1.1, 0.7);\n",
    "        bool rectangle2 = Inside(1, 1, 0.5, 0.2, 1.1, 2);\n",
    "\n",
    "        Console.WriteLine(rectangle1 && rectangle2);\n",
    "    }\n",
    "\n",
    "    static bool Inside(double x, double y, double x1, double y1, double x2, double y2)\n",
    "    {\n",
    "        return x >= x1 && x <= x2 && y >= y1 && y <= y2;\n",
    "    }"
   ]
  },
  {
   "cell_type": "markdown",
   "id": "8a1d2c14",
   "metadata": {},
   "source": [
    "#output 5\n",
    "True\n",
    "False\n",
    "False\n"
   ]
  },
  {
   "cell_type": "code",
   "execution_count": 5,
   "id": "5a78489b",
   "metadata": {},
   "outputs": [],
   "source": [
    "# problem 6   turn a word into pig-Latin \n",
    "def pig_latin(word):\n",
    "    Firstletter = word[0]\n",
    "    \n",
    "    if Firstletter in 'aeiou' :\n",
    "        pig_name = word + 'way'\n",
    "    else:\n",
    "        pig_name = word[1:] + Firstletter + 'ay'\n",
    "    return pig_name"
   ]
  },
  {
   "cell_type": "code",
   "execution_count": 6,
   "id": "56c82551",
   "metadata": {},
   "outputs": [
    {
     "data": {
      "text/plain": [
       "'agbay'"
      ]
     },
     "execution_count": 6,
     "metadata": {},
     "output_type": "execute_result"
    }
   ],
   "source": [
    "pig_latin('bag')"
   ]
  },
  {
   "cell_type": "code",
   "execution_count": 7,
   "id": "8ba46302",
   "metadata": {},
   "outputs": [
    {
     "name": "stdout",
     "output_type": "stream",
     "text": [
      "There are 15 patients of blood type A.\n",
      "There are 1 patients of blood type B.\n",
      "There are 13 patients of blood type AB.\n",
      "There are 15 patients of blood type O.\n"
     ]
    }
   ],
   "source": [
    "# Problem 7\n",
    "infile = open('bloodtype1.txt')\n",
    "content = infile.read() \n",
    "blood_types=content.split()\n",
    "counts = {'A': 0, 'B': 0, 'AB': 0, 'O': 0}\n",
    "for blood_type in blood_types:\n",
    "    counts[blood_type] += 1\n",
    "for blood_type, count in counts.items():\n",
    "    print(f\"There are {count} patients of blood type {blood_type}.\")\n"
   ]
  },
  {
   "cell_type": "code",
   "execution_count": 8,
   "id": "bc8ccedc",
   "metadata": {},
   "outputs": [],
   "source": [
    "# problem 8\n",
    "def curconv(currency, amount):\n",
    "    \n",
    "    infile = open('currencies.txt')\n",
    "    content = infile.read()\n",
    "    currencies=content.split(\"\\n\")\n",
    "    for item in currencies:\n",
    "        curr, rate, *_ = item.split()\n",
    "        if (currency == curr):\n",
    "            return float(rate) * float(amount)\n",
    "        \n",
    "\n",
    "\n"
   ]
  },
  {
   "cell_type": "code",
   "execution_count": 9,
   "id": "2fa97844",
   "metadata": {
    "scrolled": true
   },
   "outputs": [
    {
     "data": {
      "text/plain": [
       "122.96544"
      ]
     },
     "execution_count": 9,
     "metadata": {},
     "output_type": "execute_result"
    }
   ],
   "source": [
    "curconv('EUR', 100)"
   ]
  },
  {
   "cell_type": "code",
   "execution_count": 10,
   "id": "993977ac",
   "metadata": {},
   "outputs": [
    {
     "data": {
      "text/plain": [
       "1.241401"
      ]
     },
     "execution_count": 10,
     "metadata": {},
     "output_type": "execute_result"
    }
   ],
   "source": [
    "curconv('JPY', 100)"
   ]
  },
  {
   "cell_type": "code",
   "execution_count": 14,
   "id": "8a2a5942",
   "metadata": {},
   "outputs": [
    {
     "name": "stdout",
     "output_type": "stream",
     "text": [
      "if we add 6+'a' We get type error\n"
     ]
    },
    {
     "ename": "TypeError",
     "evalue": "unsupported operand type(s) for +: 'int' and 'str'",
     "output_type": "error",
     "traceback": [
      "\u001b[1;31m---------------------------------------------------------------------------\u001b[0m",
      "\u001b[1;31mTypeError\u001b[0m                                 Traceback (most recent call last)",
      "Cell \u001b[1;32mIn[14], line 3\u001b[0m\n\u001b[0;32m      1\u001b[0m \u001b[38;5;66;03m# problem 9\u001b[39;00m\n\u001b[0;32m      2\u001b[0m \u001b[38;5;28mprint\u001b[39m(\u001b[38;5;124m\"\u001b[39m\u001b[38;5;124mif we add 6+\u001b[39m\u001b[38;5;124m'\u001b[39m\u001b[38;5;124ma\u001b[39m\u001b[38;5;124m'\u001b[39m\u001b[38;5;124m We get type error\u001b[39m\u001b[38;5;124m\"\u001b[39m)\n\u001b[1;32m----> 3\u001b[0m result  \u001b[38;5;241m=\u001b[39m \u001b[38;5;241m6\u001b[39m \u001b[38;5;241m+\u001b[39m \u001b[38;5;124m'\u001b[39m\u001b[38;5;124ma\u001b[39m\u001b[38;5;124m'\u001b[39m\n",
      "\u001b[1;31mTypeError\u001b[0m: unsupported operand type(s) for +: 'int' and 'str'"
     ]
    }
   ],
   "source": [
    "# problem 9\n",
    "print(\"if we add 6+'a' We get type error\")\n",
    "result  = 6 + 'a'\n",
    "\n",
    "\n",
    "\n"
   ]
  },
  {
   "cell_type": "code",
   "execution_count": 15,
   "id": "c776c557",
   "metadata": {},
   "outputs": [
    {
     "name": "stdout",
     "output_type": "stream",
     "text": [
      "If we count 12 it gives Name error\n"
     ]
    },
    {
     "ename": "NameError",
     "evalue": "name 'counnt' is not defined",
     "output_type": "error",
     "traceback": [
      "\u001b[1;31m---------------------------------------------------------------------------\u001b[0m",
      "\u001b[1;31mNameError\u001b[0m                                 Traceback (most recent call last)",
      "Cell \u001b[1;32mIn[15], line 4\u001b[0m\n\u001b[0;32m      2\u001b[0m \u001b[38;5;28mprint\u001b[39m(\u001b[38;5;124m\"\u001b[39m\u001b[38;5;124mIf we count 12 it gives Name error\u001b[39m\u001b[38;5;124m\"\u001b[39m)\n\u001b[0;32m      3\u001b[0m count \u001b[38;5;241m=\u001b[39m [\u001b[38;5;241m1\u001b[39m, \u001b[38;5;241m2\u001b[39m, \u001b[38;5;241m3\u001b[39m, \u001b[38;5;241m4\u001b[39m, \u001b[38;5;241m5\u001b[39m, \u001b[38;5;241m6\u001b[39m, \u001b[38;5;241m7\u001b[39m, \u001b[38;5;241m8\u001b[39m, \u001b[38;5;241m9\u001b[39m, \u001b[38;5;241m10\u001b[39m]\n\u001b[1;32m----> 4\u001b[0m item \u001b[38;5;241m=\u001b[39m counnt[\u001b[38;5;241m12\u001b[39m]\n",
      "\u001b[1;31mNameError\u001b[0m: name 'counnt' is not defined"
     ]
    }
   ],
   "source": [
    "# Problem 9\n",
    "print(\"If we count 12 it gives Name error\")\n",
    "count = [1, 2, 3, 4, 5, 6, 7, 8, 9, 10]\n",
    "item = counnt[12]"
   ]
  },
  {
   "cell_type": "code",
   "execution_count": 16,
   "id": "6340e9e6",
   "metadata": {},
   "outputs": [
    {
     "name": "stdout",
     "output_type": "stream",
     "text": [
      " It gives Value error\n"
     ]
    },
    {
     "ename": "ValueError",
     "evalue": "math domain error",
     "output_type": "error",
     "traceback": [
      "\u001b[1;31m---------------------------------------------------------------------------\u001b[0m",
      "\u001b[1;31mValueError\u001b[0m                                Traceback (most recent call last)",
      "Cell \u001b[1;32mIn[16], line 4\u001b[0m\n\u001b[0;32m      2\u001b[0m \u001b[38;5;28mprint\u001b[39m(\u001b[38;5;124m\"\u001b[39m\u001b[38;5;124m It gives Value error\u001b[39m\u001b[38;5;124m\"\u001b[39m)\n\u001b[0;32m      3\u001b[0m \u001b[38;5;28;01mimport\u001b[39;00m \u001b[38;5;21;01mmath\u001b[39;00m\n\u001b[1;32m----> 4\u001b[0m outcome \u001b[38;5;241m=\u001b[39m math\u001b[38;5;241m.\u001b[39msqrt(\u001b[38;5;241m-\u001b[39m\u001b[38;5;241m1.0\u001b[39m)\n",
      "\u001b[1;31mValueError\u001b[0m: math domain error"
     ]
    }
   ],
   "source": [
    "# problem 9\n",
    "print(\" It gives Value error\")\n",
    "import math\n",
    "outcome = math.sqrt(-1.0)\n"
   ]
  },
  {
   "cell_type": "code",
   "execution_count": 17,
   "id": "5560a7cf",
   "metadata": {},
   "outputs": [
    {
     "ename": "NameError",
     "evalue": "name 'x' is not defined",
     "output_type": "error",
     "traceback": [
      "\u001b[1;31m---------------------------------------------------------------------------\u001b[0m",
      "\u001b[1;31mNameError\u001b[0m                                 Traceback (most recent call last)",
      "Cell \u001b[1;32mIn[17], line 2\u001b[0m\n\u001b[0;32m      1\u001b[0m \u001b[38;5;66;03m# problem 9\u001b[39;00m\n\u001b[1;32m----> 2\u001b[0m \u001b[38;5;28mprint\u001b[39m(x)\n",
      "\u001b[1;31mNameError\u001b[0m: name 'x' is not defined"
     ]
    }
   ],
   "source": [
    "# problem 9\n",
    "print(x)"
   ]
  },
  {
   "cell_type": "code",
   "execution_count": 18,
   "id": "f705cda7",
   "metadata": {},
   "outputs": [
    {
     "ename": "FileNotFoundError",
     "evalue": "[Errno 2] No such file or directory: 'nonexistent_file.txt'",
     "output_type": "error",
     "traceback": [
      "\u001b[1;31m---------------------------------------------------------------------------\u001b[0m",
      "\u001b[1;31mFileNotFoundError\u001b[0m                         Traceback (most recent call last)",
      "Cell \u001b[1;32mIn[18], line 2\u001b[0m\n\u001b[0;32m      1\u001b[0m \u001b[38;5;66;03m# problem 9\u001b[39;00m\n\u001b[1;32m----> 2\u001b[0m filename \u001b[38;5;241m=\u001b[39m \u001b[38;5;28mopen\u001b[39m(\u001b[38;5;124m\"\u001b[39m\u001b[38;5;124mnonexistent_file.txt\u001b[39m\u001b[38;5;124m\"\u001b[39m, \u001b[38;5;124m\"\u001b[39m\u001b[38;5;124mr\u001b[39m\u001b[38;5;124m\"\u001b[39m)\n",
      "File \u001b[1;32m~\\anaconda3\\Lib\\site-packages\\IPython\\core\\interactiveshell.py:286\u001b[0m, in \u001b[0;36m_modified_open\u001b[1;34m(file, *args, **kwargs)\u001b[0m\n\u001b[0;32m    279\u001b[0m \u001b[38;5;28;01mif\u001b[39;00m file \u001b[38;5;129;01min\u001b[39;00m {\u001b[38;5;241m0\u001b[39m, \u001b[38;5;241m1\u001b[39m, \u001b[38;5;241m2\u001b[39m}:\n\u001b[0;32m    280\u001b[0m     \u001b[38;5;28;01mraise\u001b[39;00m \u001b[38;5;167;01mValueError\u001b[39;00m(\n\u001b[0;32m    281\u001b[0m         \u001b[38;5;124mf\u001b[39m\u001b[38;5;124m\"\u001b[39m\u001b[38;5;124mIPython won\u001b[39m\u001b[38;5;124m'\u001b[39m\u001b[38;5;124mt let you open fd=\u001b[39m\u001b[38;5;132;01m{\u001b[39;00mfile\u001b[38;5;132;01m}\u001b[39;00m\u001b[38;5;124m by default \u001b[39m\u001b[38;5;124m\"\u001b[39m\n\u001b[0;32m    282\u001b[0m         \u001b[38;5;124m\"\u001b[39m\u001b[38;5;124mas it is likely to crash IPython. If you know what you are doing, \u001b[39m\u001b[38;5;124m\"\u001b[39m\n\u001b[0;32m    283\u001b[0m         \u001b[38;5;124m\"\u001b[39m\u001b[38;5;124myou can use builtins\u001b[39m\u001b[38;5;124m'\u001b[39m\u001b[38;5;124m open.\u001b[39m\u001b[38;5;124m\"\u001b[39m\n\u001b[0;32m    284\u001b[0m     )\n\u001b[1;32m--> 286\u001b[0m \u001b[38;5;28;01mreturn\u001b[39;00m io_open(file, \u001b[38;5;241m*\u001b[39margs, \u001b[38;5;241m*\u001b[39m\u001b[38;5;241m*\u001b[39mkwargs)\n",
      "\u001b[1;31mFileNotFoundError\u001b[0m: [Errno 2] No such file or directory: 'nonexistent_file.txt'"
     ]
    }
   ],
   "source": [
    "# problem 9\n",
    "filename = open(\"nonexistent_file.txt\", \"r\")"
   ]
  },
  {
   "cell_type": "code",
   "execution_count": 19,
   "id": "808297a4",
   "metadata": {},
   "outputs": [
    {
     "name": "stdout",
     "output_type": "stream",
     "text": [
      "[1, 1, 1, 3, 5, 1, 1, 2, 1, 0, 1, 0, 1, 2, 4, 0, 1, 2, 0, 3, 1, 0, 1, 1, 0, 0]\n",
      "[1, 0, 0, 0, 1, 0, 0, 0, 0, 0, 0, 1, 0, 0, 0, 2, 0, 0, 0, 0, 0, 0, 0, 0, 0, 0]\n"
     ]
    }
   ],
   "source": [
    "# problem 10\n",
    "def frequencies(text):\n",
    "    \n",
    "    letters = 'abcdefghijklmnopqrstuvwxyz'\n",
    "    lettercounts = [0] * 26\n",
    "    text = text.lower()\n",
    "    for char in text:\n",
    "       \n",
    "        if char in letters:\n",
    "         \n",
    "            lettercounts[letters.index(char)] += 1\n",
    "\n",
    "    return lettercounts\n",
    "\n",
    "\n",
    "result1 = frequencies('The quick red fox got bored and went home.')\n",
    "print(result1)\n",
    "\n",
    "result2 = frequencies('apple')\n",
    "print(result2)"
   ]
  },
  {
   "cell_type": "code",
   "execution_count": 20,
   "id": "4f0a26d0",
   "metadata": {},
   "outputs": [
    {
     "name": "stdout",
     "output_type": "stream",
     "text": [
      "True\n",
      "False\n",
      "False\n"
     ]
    }
   ],
   "source": [
    "# Problem 10\n",
    "def inside(x, y, x1, y1, x2, y2):\n",
    "    return x1 <= x <= x2 and y1 <= y <= y2\n",
    "print(inside(1, 1, 0, 0, 2, 3))   \n",
    "print(inside(-1, -1, 0, 0, 2, 3))\n",
    "print(inside(1, 1, 0.3, 0.5, 1.1, 0.7) and inside(1, 1, 0.5, 0.2, 1.1, 2))"
   ]
  },
  {
   "cell_type": "code",
   "execution_count": null,
   "id": "325d10b0",
   "metadata": {},
   "outputs": [],
   "source": []
  }
 ],
 "metadata": {
  "kernelspec": {
   "display_name": "Python 3 (ipykernel)",
   "language": "python",
   "name": "python3"
  },
  "language_info": {
   "codemirror_mode": {
    "name": "ipython",
    "version": 3
   },
   "file_extension": ".py",
   "mimetype": "text/x-python",
   "name": "python",
   "nbconvert_exporter": "python",
   "pygments_lexer": "ipython3",
   "version": "3.11.5"
  }
 },
 "nbformat": 4,
 "nbformat_minor": 5
}
