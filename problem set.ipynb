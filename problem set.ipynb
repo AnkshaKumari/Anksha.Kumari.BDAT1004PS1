{
 "cells": [
  {
   "cell_type": "markdown",
   "id": "56f37db2",
   "metadata": {},
   "source": [
    "\n",
    "        \n",
    "\n",
    "# Problem set 1\n",
    "Console.WriteLine($\"The data type of 5 is: {typeof(int)}\");\n",
    "Console.WriteLine($\"The data type of 5.0 is: {typeof(double)}\");\n",
    "Console.WriteLine($\"The data type of the 5>1 is: {typeof(bool)}\");\n",
    "Console.WriteLine($\"The data type of the 5*2 is: {typeof(bool)}\");\n",
    "Console.WriteLine($\"The data type of '5' is: {typeof(char)}\");\n",
    "Console.WriteLine($\"Data type of the  is : {typeof(char)}\");\n",
    "Console.WriteLine($\"Data type of the 5/2 : {typeof(double)}\");\n",
    "Console.WriteLine($\"Data type of the 5%2 : {typeof(int)}\");\n",
    "int[] result = { 5, 2, 1 };\n",
    "Console.WriteLine($\"The data type of result is: {result.GetType()}\");\n",
    "bool output = 5 == 3;\n",
    "Console.WriteLine($\"Data type of the expression: {typeof(bool)}\");\n",
    "double piValue = Math.PI;\n",
    "Console.WriteLine($\"The data type of Pi is: {piValue.GetType()}\");"
   ]
  },
  {
   "cell_type": "markdown",
   "id": "dfd2d2bf",
   "metadata": {},
   "source": [
    "# Output of problem set1\n",
    "The data type of 5 is: System.Int32\n",
    "The data type of 5.0 is: System.Double\n",
    "The data type of the 5>1 is: System.Boolean\n",
    "The data type of the 5*2 is: System.Boolean\n",
    "The data type of '5' is: System.Char\n",
    "Data type of the  is : System.Char\n",
    "Data type of the 5/2 : System.Double\n",
    "Data type of the 5%2 : System.Int32\n",
    "The data type of result is: System.Int32[]\n",
    "Data type of the expression: System.Boolean\n",
    "The data type of Pi is: System.Double"
   ]
  },
  {
   "cell_type": "markdown",
   "id": "428af3b6",
   "metadata": {},
   "source": [
    "# problem 2\n",
    "# a) length of the string\n",
    "string name = \"Supercalifragilisticexpialidocious\";\n",
    "Console.WriteLine($\"Number of letters: {name.Length}\");\n",
    "# b) Does 'Supercalifragilisticexpialidocious' contain 'ice' as a substring . It gives true output\n",
    "string str = \"Supercalifragilisticexpialidocious\";\n",
    "string value = \"ice\";\n",
    "Boolean result = str.Contains(value);\n",
    "Console.WriteLine(result);\n",
    "# c) which words is the longest\n",
    "string str1 = \"Supercalifragilisticexpialidocious\";\n",
    "string str2 = \"Honorificabilitudinitatibus\";\n",
    "string str3 = \"Bababadalgharaghtakamminarronnkonn\";\n",
    "int num1 = str1.Length;\n",
    "int num2 = str2.Length;\n",
    "int num3 = str3.Length;\n",
    "if (num1>num2)\n",
    "{\n",
    "if (num1>num3)\n",
    "{\n",
    "Console.Write(\"The string first is the gratest among three.\\n\\n\");\n",
    "}\n",
    "else\n",
    "{\n",
    "Console.Write(\"The string third is the gratest among three.\\n\\n\");  \n",
    "}\n",
    "       \n",
    "}\n",
    "else if (num1 > num3)\n",
    "Console.Write(\"The string second is the gratest among three.\\n\\n\"); \n",
    "else \n",
    "Console.Write(\"The string third is the gratest among three.\\n\\n\");\n",
    "#d) problem\n",
    "string[] names = {  \"Berlioz\", \"Borodin\", \"Brian\",\"Bartok\", \"Bellini\", \"Buxtehude\", \"Bernstein\" };\n",
    "Array.Sort(names);\n",
    "Console.WriteLine(\"First name : \" + names[0]);\n",
    "Console.WriteLine(\"Last name : \" + names[names.Length-1]);\n",
    "    \n"
   ]
  },
  {
   "cell_type": "code",
   "execution_count": 1,
   "id": "5a78489b",
   "metadata": {},
   "outputs": [],
   "source": [
    "# problem 6   turn a word into pig-Latin \n",
    "def pig_latin(word):\n",
    "    Firstletter = word[0]\n",
    "    \n",
    "    if Firstletter in 'aeiou' :\n",
    "        pig_name = word + 'way'\n",
    "    else:\n",
    "        pig_name = word[1:] + Firstletter + 'ay'\n",
    "    return pig_name"
   ]
  },
  {
   "cell_type": "code",
   "execution_count": 2,
   "id": "56c82551",
   "metadata": {},
   "outputs": [
    {
     "data": {
      "text/plain": [
       "'agbay'"
      ]
     },
     "execution_count": 2,
     "metadata": {},
     "output_type": "execute_result"
    }
   ],
   "source": [
    "pig_latin('bag')"
   ]
  },
  {
   "cell_type": "code",
   "execution_count": 3,
   "id": "8ba46302",
   "metadata": {},
   "outputs": [
    {
     "ename": "FileNotFoundError",
     "evalue": "[Errno 2] No such file or directory: 'bloodtype1.txt'",
     "output_type": "error",
     "traceback": [
      "\u001b[1;31m---------------------------------------------------------------------------\u001b[0m",
      "\u001b[1;31mFileNotFoundError\u001b[0m                         Traceback (most recent call last)",
      "Cell \u001b[1;32mIn[3], line 2\u001b[0m\n\u001b[0;32m      1\u001b[0m \u001b[38;5;66;03m# Problem 7\u001b[39;00m\n\u001b[1;32m----> 2\u001b[0m infile \u001b[38;5;241m=\u001b[39m \u001b[38;5;28mopen\u001b[39m(\u001b[38;5;124m'\u001b[39m\u001b[38;5;124mbloodtype1.txt\u001b[39m\u001b[38;5;124m'\u001b[39m)\n\u001b[0;32m      3\u001b[0m content \u001b[38;5;241m=\u001b[39m infile\u001b[38;5;241m.\u001b[39mread() \n\u001b[0;32m      4\u001b[0m blood_types\u001b[38;5;241m=\u001b[39mcontent\u001b[38;5;241m.\u001b[39msplit()\n",
      "File \u001b[1;32m~\\anaconda3\\Lib\\site-packages\\IPython\\core\\interactiveshell.py:286\u001b[0m, in \u001b[0;36m_modified_open\u001b[1;34m(file, *args, **kwargs)\u001b[0m\n\u001b[0;32m    279\u001b[0m \u001b[38;5;28;01mif\u001b[39;00m file \u001b[38;5;129;01min\u001b[39;00m {\u001b[38;5;241m0\u001b[39m, \u001b[38;5;241m1\u001b[39m, \u001b[38;5;241m2\u001b[39m}:\n\u001b[0;32m    280\u001b[0m     \u001b[38;5;28;01mraise\u001b[39;00m \u001b[38;5;167;01mValueError\u001b[39;00m(\n\u001b[0;32m    281\u001b[0m         \u001b[38;5;124mf\u001b[39m\u001b[38;5;124m\"\u001b[39m\u001b[38;5;124mIPython won\u001b[39m\u001b[38;5;124m'\u001b[39m\u001b[38;5;124mt let you open fd=\u001b[39m\u001b[38;5;132;01m{\u001b[39;00mfile\u001b[38;5;132;01m}\u001b[39;00m\u001b[38;5;124m by default \u001b[39m\u001b[38;5;124m\"\u001b[39m\n\u001b[0;32m    282\u001b[0m         \u001b[38;5;124m\"\u001b[39m\u001b[38;5;124mas it is likely to crash IPython. If you know what you are doing, \u001b[39m\u001b[38;5;124m\"\u001b[39m\n\u001b[0;32m    283\u001b[0m         \u001b[38;5;124m\"\u001b[39m\u001b[38;5;124myou can use builtins\u001b[39m\u001b[38;5;124m'\u001b[39m\u001b[38;5;124m open.\u001b[39m\u001b[38;5;124m\"\u001b[39m\n\u001b[0;32m    284\u001b[0m     )\n\u001b[1;32m--> 286\u001b[0m \u001b[38;5;28;01mreturn\u001b[39;00m io_open(file, \u001b[38;5;241m*\u001b[39margs, \u001b[38;5;241m*\u001b[39m\u001b[38;5;241m*\u001b[39mkwargs)\n",
      "\u001b[1;31mFileNotFoundError\u001b[0m: [Errno 2] No such file or directory: 'bloodtype1.txt'"
     ]
    }
   ],
   "source": [
    "# Problem 7\n",
    "infile = open('bloodtype1.txt')\n",
    "content = infile.read() \n",
    "blood_types=content.split()\n",
    "counts = {'A': 0, 'B': 0, 'AB': 0, 'O': 0}\n",
    "for blood_type in blood_types:\n",
    "    counts[blood_type] += 1\n",
    "for blood_type, count in counts.items():\n",
    "    print(f\"There are {count} patients of blood type {blood_type}.\")\n"
   ]
  },
  {
   "cell_type": "code",
   "execution_count": null,
   "id": "bc8ccedc",
   "metadata": {},
   "outputs": [],
   "source": [
    "# problem 8\n",
    "def curconv(currency, amount):\n",
    "    \n",
    "    infile = open('currencies.txt')\n",
    "    content = infile.read()\n",
    "    currencies=content.split(\"\\n\")\n",
    "    for item in currencies:\n",
    "        curr, rate, *_ = item.split()\n",
    "        if (currency == curr):\n",
    "            return float(rate) * float(amount)\n",
    "        \n",
    "\n",
    "\n"
   ]
  },
  {
   "cell_type": "code",
   "execution_count": null,
   "id": "2fa97844",
   "metadata": {
    "scrolled": true
   },
   "outputs": [],
   "source": [
    "curconv('EUR', 100)"
   ]
  },
  {
   "cell_type": "code",
   "execution_count": null,
   "id": "993977ac",
   "metadata": {},
   "outputs": [],
   "source": [
    "curconv('JPY', 100)"
   ]
  },
  {
   "cell_type": "code",
   "execution_count": null,
   "id": "8a2a5942",
   "metadata": {},
   "outputs": [],
   "source": [
    "# problem 9\n",
    "print(\"if we add 6+'a' We get type error\")\n",
    "result  = 6 + 'a'\n",
    "\n",
    "# Problem 9\n",
    "print(\"If we count 12 it gives Name error\")\n",
    "count = [1, 2, 3, 4, 5, 6, 7, 8, 9, 10]\n",
    "item = counnt[12]\n",
    "\n",
    "# problem 9\n",
    "print(\" It gives Value error\")\n",
    "import math\n",
    "outcome = math.sqrt(-1.0)\n",
    "\n",
    "# problem 9\n",
    "print(x)\n",
    "\n",
    "# problem 1 \n",
    "using System;\n",
    "\n",
    "public class Problem1\n",
    "{\n",
    "    public static void Main(string[] args)\n",
    "    {\n",
    "      Console.WriteLine($\"The data type of 5 is: {typeof(int)}\");\n",
    "      \n",
    "      Console.WriteLine($\"The data type of 5.0 is: {typeof(double)}\");\n",
    "       Console.WriteLine($\"The data type of the 5>1 is: {typeof(bool)}\");\n",
    "       Console.WriteLine($\"The data type of the 5*2 is: {typeof(bool)}\");\n",
    "       \n",
    "        Console.WriteLine($\"The data type of '5' is: {typeof(char)}\");\n",
    "         Console.WriteLine($\"Data type of the  is : {typeof(char)}\");\n",
    "         Console.WriteLine($\"Data type of the 5/2 : {typeof(double)}\");\n",
    "         Console.WriteLine($\"Data type of the 5%2 : {typeof(int)}\");\n",
    "         \n",
    "        int[] result = { 5, 2, 1 };\n",
    "        Console.WriteLine($\"The data type of result is: {result.GetType()}\");\n",
    "         bool output = 5 == 3;\n",
    "         \n",
    "        Console.WriteLine($\"Data type of the expression: {typeof(bool)}\");\n",
    "         double piValue = Math.PI;\n",
    "\n",
    "        Console.WriteLine($\"The data type of Pi is: {piValue.GetType()}\");\n",
    "    }\n",
    "}"
   ]
  },
  {
   "cell_type": "code",
   "execution_count": null,
   "id": "f705cda7",
   "metadata": {},
   "outputs": [],
   "source": [
    "# problem 9\n",
    "filename = open(\"nonexistent_file.txt\", \"r\")"
   ]
  },
  {
   "cell_type": "code",
   "execution_count": null,
   "id": "808297a4",
   "metadata": {},
   "outputs": [],
   "source": [
    "# problem 10\n",
    "def frequencies(text):\n",
    "    \n",
    "    letters = 'abcdefghijklmnopqrstuvwxyz'\n",
    "    lettercounts = [0] * 26\n",
    "    text = text.lower()\n",
    "    for char in text:\n",
    "       \n",
    "        if char in letters:\n",
    "         \n",
    "            lettercounts[letters.index(char)] += 1\n",
    "\n",
    "    return lettercounts\n",
    "\n",
    "\n",
    "result1 = frequencies('The quick red fox got bored and went home.')\n",
    "print(result1)\n",
    "\n",
    "result2 = frequencies('apple')\n",
    "print(result2)"
   ]
  },
  {
   "cell_type": "code",
   "execution_count": 4,
   "id": "4f0a26d0",
   "metadata": {},
   "outputs": [
    {
     "name": "stdout",
     "output_type": "stream",
     "text": [
      "True\n",
      "False\n",
      "False\n"
     ]
    }
   ],
   "source": [
    "# Problem 10\n",
    "def inside(x, y, x1, y1, x2, y2):\n",
    "    return x1 <= x <= x2 and y1 <= y <= y2\n",
    "print(inside(1, 1, 0, 0, 2, 3))   \n",
    "print(inside(-1, -1, 0, 0, 2, 3))\n",
    "print(inside(1, 1, 0.3, 0.5, 1.1, 0.7) and inside(1, 1, 0.5, 0.2, 1.1, 2))"
   ]
  }
 ],
 "metadata": {
  "kernelspec": {
   "display_name": "Python 3 (ipykernel)",
   "language": "python",
   "name": "python3"
  },
  "language_info": {
   "codemirror_mode": {
    "name": "ipython",
    "version": 3
   },
   "file_extension": ".py",
   "mimetype": "text/x-python",
   "name": "python",
   "nbconvert_exporter": "python",
   "pygments_lexer": "ipython3",
   "version": "3.11.5"
  }
 },
 "nbformat": 4,
 "nbformat_minor": 5
}
